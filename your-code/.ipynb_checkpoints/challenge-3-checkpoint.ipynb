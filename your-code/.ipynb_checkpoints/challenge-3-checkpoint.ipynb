{
 "cells": [
  {
   "cell_type": "markdown",
   "metadata": {},
   "source": [
    "# Challenge 3\n",
    "\n",
    "In this challenge we will work on the `Orders` data set. In your work you will apply the thinking process and workflow we showed you in Challenge 2.\n",
    "\n",
    "You are serving as a Business Intelligence Analyst at the headquarter of an international fashion goods chain store. Your boss today asked you to do two things for her:\n",
    "\n",
    "**First, identify two groups of customers from the data set.** The first group is **VIP Customers** whose **aggregated expenses** at your global chain stores are **above the 95th percentile** (aka. 0.95 quantile). The second group is **Preferred Customers** whose **aggregated expenses** are **between the 75th and 95th percentile**.\n",
    "\n",
    "**Second, identify which country has the most of your VIP customers, and which country has the most of your VIP+Preferred Customers combined.**"
   ]
  },
  {
   "cell_type": "markdown",
   "metadata": {},
   "source": [
    "## Q1: How to identify VIP & Preferred Customers?\n",
    "\n",
    "We start by importing all the required libraries:"
   ]
  },
  {
   "cell_type": "code",
   "execution_count": 1,
   "metadata": {},
   "outputs": [],
   "source": [
    "# import required libraries\n",
    "import numpy as np\n",
    "import pandas as pd"
   ]
  },
  {
   "cell_type": "markdown",
   "metadata": {},
   "source": [
    "Next, extract and import `Orders` dataset into a dataframe variable called `orders`. Print the head of `orders` to overview the data:"
   ]
  },
  {
   "cell_type": "code",
   "execution_count": 3,
   "metadata": {},
   "outputs": [
    {
     "name": "stdout",
     "output_type": "stream",
     "text": [
      "   #                   Name Type 1  Type 2  Total  HP  Attack  Defense  \\\n",
      "0  1              Bulbasaur  Grass  Poison    318  45      49       49   \n",
      "1  2                Ivysaur  Grass  Poison    405  60      62       63   \n",
      "2  3               Venusaur  Grass  Poison    525  80      82       83   \n",
      "3  3  VenusaurMega Venusaur  Grass  Poison    625  80     100      123   \n",
      "4  4             Charmander   Fire     NaN    309  39      52       43   \n",
      "\n",
      "   Sp. Atk  Sp. Def  Speed  Generation  Legendary  \n",
      "0       65       65     45           1      False  \n",
      "1       80       80     60           1      False  \n",
      "2      100      100     80           1      False  \n",
      "3      122      120     80           1      False  \n",
      "4       60       50     65           1      False  \n"
     ]
    }
   ],
   "source": [
    "# your code here\n",
    "import pandas as pd\n",
    "\n",
    "# Assuming the Orders dataset is in CSV format and named \"Orders.csv\"\n",
    "orders = pd.read_csv(\"pokemon.csv\")\n",
    "\n",
    "# Print the head of orders DataFrame\n",
    "print(orders.head())"
   ]
  },
  {
   "cell_type": "markdown",
   "metadata": {},
   "source": [
    "---\n",
    "\n",
    "\"Identify VIP and Preferred Customers\" is the non-technical goal of your boss. You need to translate that goal into technical languages that data analysts use:\n",
    "\n",
    "## How to label customers whose aggregated `amount_spent` is in a given quantile range?\n"
   ]
  },
  {
   "cell_type": "markdown",
   "metadata": {},
   "source": [
    "We break down the main problem into several sub problems:\n",
    "\n",
    "#### Sub Problem 1: How to aggregate the  `amount_spent` for unique customers?\n",
    "\n",
    "#### Sub Problem 2: How to select customers whose aggregated `amount_spent` is in a given quantile range?\n",
    "\n",
    "#### Sub Problem 3: How to label selected customers as \"VIP\" or \"Preferred\"?\n",
    "\n",
    "*Note: If you want to break down the main problem in a different way, please feel free to revise the sub problems above.*\n",
    "\n",
    "Now in the workspace below, tackle each of the sub problems using the iterative problem solving workflow. Insert cells as necessary to write your codes and explain your steps."
   ]
  },
  {
   "cell_type": "code",
   "execution_count": 23,
   "metadata": {},
   "outputs": [
    {
     "ename": "NameError",
     "evalue": "name 'customer_spending' is not defined",
     "output_type": "error",
     "traceback": [
      "\u001b[1;31m---------------------------------------------------------------------------\u001b[0m",
      "\u001b[1;31mNameError\u001b[0m                                 Traceback (most recent call last)",
      "Cell \u001b[1;32mIn[23], line 9\u001b[0m\n\u001b[0;32m      6\u001b[0m columns \u001b[38;5;241m=\u001b[39m pd\u001b[38;5;241m.\u001b[39mread_csv(\u001b[38;5;124m\"\u001b[39m\u001b[38;5;124mpokemon.csv\u001b[39m\u001b[38;5;124m\"\u001b[39m, nrows\u001b[38;5;241m=\u001b[39m\u001b[38;5;241m1\u001b[39m)\n\u001b[0;32m      8\u001b[0m \u001b[38;5;66;03m# Step 2: Calculate quantiles for VIP and Preferred customers\u001b[39;00m\n\u001b[1;32m----> 9\u001b[0m quantiles \u001b[38;5;241m=\u001b[39m customer_spending[\u001b[38;5;124m'\u001b[39m\u001b[38;5;124mamount_spent\u001b[39m\u001b[38;5;124m'\u001b[39m]\u001b[38;5;241m.\u001b[39mquantile([\u001b[38;5;241m0.75\u001b[39m, \u001b[38;5;241m0.95\u001b[39m])\n\u001b[0;32m     10\u001b[0m \u001b[38;5;66;03m# Step 3: Filter customers based on quantiles to identify VIP and Preferred customers\u001b[39;00m\n\u001b[0;32m     11\u001b[0m vip_customers \u001b[38;5;241m=\u001b[39m customer_spending\u001b[38;5;241m.\u001b[39mloc[customer_spending[\u001b[38;5;124m'\u001b[39m\u001b[38;5;124mamount_spent\u001b[39m\u001b[38;5;124m'\u001b[39m] \u001b[38;5;241m>\u001b[39m quantiles[\u001b[38;5;241m0.95\u001b[39m]]\n",
      "\u001b[1;31mNameError\u001b[0m: name 'customer_spending' is not defined"
     ]
    }
   ],
   "source": [
    "# import required libraries\n",
    "import numpy as np\n",
    "import pandas as pd\n",
    "\n",
    "# Read only the first row of the CSV file to get the column names\n",
    "columns = pd.read_csv(\"pokemon.csv\", nrows=1)\n",
    "\n",
    "# Step 2: Calculate quantiles for VIP and Preferred customers\n",
    "quantiles = customer_spending['amount_spent'].quantile([0.75, 0.95])\n",
    "# Step 3: Filter customers based on quantiles to identify VIP and Preferred customers\n",
    "vip_customers = customer_spending.loc[customer_spending['amount_spent'] > quantiles[0.95]]\n",
    "preferred_customers = customer_spending.loc[(customer_spending['amount_spent'] > quantiles[0.75]) & (customer_spending['amount_spent'] <= quantiles[0.95])]\n",
    "\n",
    "# Step 4: Label selected customers as \"VIP\" or \"Preferred\"\n",
    "vip_customers['customer_type'] = 'VIP'\n",
    "preferred_customers['customer_type'] = 'Preferred'\n",
    "\n",
    "# Display the first few rows of VIP and Preferred customers\n",
    "print(orders.columns)\n",
    "print(customer_spending.head())\n",
    "print(vip_customers.head())\n",
    "print(\"\\nPreferred Customers:\")\n",
    "print(preferred_customers.head())\n"
   ]
  },
  {
   "cell_type": "markdown",
   "metadata": {},
   "source": [
    "Now we'll leave it to you to solve Q2 & Q3, which you can leverage from your solution for Q1:\n",
    "\n",
    "## Q2: How to identify which country has the most VIP Customers?"
   ]
  },
  {
   "cell_type": "code",
   "execution_count": 9,
   "metadata": {},
   "outputs": [
    {
     "ename": "NameError",
     "evalue": "name 'customer_country_spending' is not defined",
     "output_type": "error",
     "traceback": [
      "\u001b[1;31m---------------------------------------------------------------------------\u001b[0m",
      "\u001b[1;31mNameError\u001b[0m                                 Traceback (most recent call last)",
      "Cell \u001b[1;32mIn[9], line 2\u001b[0m\n\u001b[0;32m      1\u001b[0m \u001b[38;5;66;03m# Calculate the quantiles of the aggregated amount_spent\u001b[39;00m\n\u001b[1;32m----> 2\u001b[0m quantiles \u001b[38;5;241m=\u001b[39m customer_country_spending[\u001b[38;5;124m'\u001b[39m\u001b[38;5;124mamount_spent\u001b[39m\u001b[38;5;124m'\u001b[39m]\u001b[38;5;241m.\u001b[39mquantile([\u001b[38;5;241m0.75\u001b[39m])\n\u001b[0;32m      4\u001b[0m \u001b[38;5;66;03m# Filter customers whose aggregated amount_spent is above the 75th percentile\u001b[39;00m\n\u001b[0;32m      5\u001b[0m vip_customers \u001b[38;5;241m=\u001b[39m customer_country_spending\u001b[38;5;241m.\u001b[39mloc[customer_country_spending[\u001b[38;5;124m'\u001b[39m\u001b[38;5;124mamount_spent\u001b[39m\u001b[38;5;124m'\u001b[39m] \u001b[38;5;241m>\u001b[39m quantiles[\u001b[38;5;241m0.75\u001b[39m]]\n",
      "\u001b[1;31mNameError\u001b[0m: name 'customer_country_spending' is not defined"
     ]
    }
   ],
   "source": [
    "# Calculate the quantiles of the aggregated amount_spent\n",
    "quantiles = customer_country_spending['amount_spent'].quantile([0.75])\n",
    "\n",
    "# Filter customers whose aggregated amount_spent is above the 75th percentile\n",
    "vip_customers = customer_country_spending.loc[customer_country_spending['amount_spent'] > quantiles[0.75]]"
   ]
  },
  {
   "cell_type": "markdown",
   "metadata": {},
   "source": [
    "## Q3: How to identify which country has the most VIP+Preferred Customers combined?"
   ]
  },
  {
   "cell_type": "code",
   "execution_count": 16,
   "metadata": {},
   "outputs": [
    {
     "ename": "NameError",
     "evalue": "name 'vip_customers' is not defined",
     "output_type": "error",
     "traceback": [
      "\u001b[1;31m---------------------------------------------------------------------------\u001b[0m",
      "\u001b[1;31mNameError\u001b[0m                                 Traceback (most recent call last)",
      "Cell \u001b[1;32mIn[16], line 2\u001b[0m\n\u001b[0;32m      1\u001b[0m \u001b[38;5;66;03m# Step 2: Group the VIP customers by country\u001b[39;00m\n\u001b[1;32m----> 2\u001b[0m vip_customers_by_country \u001b[38;5;241m=\u001b[39m vip_customers\u001b[38;5;241m.\u001b[39mgroupby(\u001b[38;5;124m'\u001b[39m\u001b[38;5;124mCountry\u001b[39m\u001b[38;5;124m'\u001b[39m)\u001b[38;5;241m.\u001b[39msize()\u001b[38;5;241m.\u001b[39mreset_index(name\u001b[38;5;241m=\u001b[39m\u001b[38;5;124m'\u001b[39m\u001b[38;5;124mVIP_customer_count\u001b[39m\u001b[38;5;124m'\u001b[39m)\n\u001b[0;32m      4\u001b[0m \u001b[38;5;66;03m# Step 3: Find the country with the highest count of VIP customers\u001b[39;00m\n\u001b[0;32m      5\u001b[0m country_with_most_vip_customers \u001b[38;5;241m=\u001b[39m vip_customers_by_country\u001b[38;5;241m.\u001b[39mloc[vip_customers_by_country[\u001b[38;5;124m'\u001b[39m\u001b[38;5;124mVIP_customer_count\u001b[39m\u001b[38;5;124m'\u001b[39m]\u001b[38;5;241m.\u001b[39midxmax()]\n",
      "\u001b[1;31mNameError\u001b[0m: name 'vip_customers' is not defined"
     ]
    }
   ],
   "source": [
    "# Step 2: Group the VIP customers by country\n",
    "vip_customers_by_country = vip_customers.groupby('Country').size().reset_index(name='VIP_customer_count')\n",
    "\n",
    "# Step 3: Find the country with the highest count of VIP customers\n",
    "country_with_most_vip_customers = vip_customers_by_country.loc[vip_customers_by_country['VIP_customer_count'].idxmax()]\n",
    "\n",
    "# Step 4: Print the result\n",
    "print(\"Country with the most VIP customers:\", country_with_most_vip_customers['Country'])\n",
    "print(\"Number of VIP customers in that country:\", country_with_most_vip_customers['VIP_customer_count'])"
   ]
  },
  {
   "cell_type": "code",
   "execution_count": null,
   "metadata": {},
   "outputs": [],
   "source": []
  }
 ],
 "metadata": {
  "kernelspec": {
   "display_name": "Python 3 (ipykernel)",
   "language": "python",
   "name": "python3"
  },
  "language_info": {
   "codemirror_mode": {
    "name": "ipython",
    "version": 3
   },
   "file_extension": ".py",
   "mimetype": "text/x-python",
   "name": "python",
   "nbconvert_exporter": "python",
   "pygments_lexer": "ipython3",
   "version": "3.11.7"
  }
 },
 "nbformat": 4,
 "nbformat_minor": 2
}
