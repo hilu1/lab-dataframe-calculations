{
 "cells": [
  {
   "cell_type": "markdown",
   "metadata": {},
   "source": [
    "# Challenge 2\n",
    "\n",
    "In this challenge we will continue working with the `Pokemon` dataset. We will attempt solving a slightly more complex problem in which we will practice the iterative data analysis process you leaned in [this video](https://www.youtube.com/watch?v=xOomNicqbkk).\n",
    "\n",
    "The problem statement is as follows:\n",
    "\n",
    "**You are at a Pokemon black market planning to buy a Pokemon for battle. All Pokemon are sold at the same price and you can only afford to buy one. You cannot choose which specific Pokemon to buy. However, you can specify the type of the Pokemon - one type that exists in either `Type 1` or `Type 2`. Which type should you choose in order to maximize your chance of receiving a good Pokemon?**\n",
    "\n",
    "To remind you about the 3 steps of iterative data analysis, they are:\n",
    "\n",
    "1. Setting Expectations\n",
    "1. Collecting Information\n",
    "1. Reacting to Data / Revising Expectations\n",
    "\n",
    "Following the iterative process, we'll guide you in completing the challenge."
   ]
  },
  {
   "cell_type": "markdown",
   "metadata": {},
   "source": [
    "\n",
    "## Problem Solving Iteration 1\n",
    "\n",
    "In this iteration we'll analyze the problem and identify the breakthrough. The original question statement is kind of vague because we don't know what a *good pokemon* really means as represented in the data. We'll start by understanding the dataset and see if we can find some insights."
   ]
  },
  {
   "cell_type": "code",
   "execution_count": 1,
   "metadata": {},
   "outputs": [],
   "source": [
    "# Import libraries\n",
    "import numpy as np\n",
    "import pandas as pd"
   ]
  },
  {
   "cell_type": "code",
   "execution_count": 7,
   "metadata": {
    "scrolled": true
   },
   "outputs": [],
   "source": [
    "# Importing the dataset\n",
    "pokemon = pd.read_csv('pokemon.csv')"
   ]
  },
  {
   "cell_type": "markdown",
   "metadata": {},
   "source": [
    "From the data it seems whether a pokemon is good depends on its abilities as represented in the fields of `HP`, `Attack`, `Defense`, `Sp. Atk`, `Sp. Def`, `Speed`, and `Total`. We are not sure about `Generation` and `Legendary` because they are not necessarily the decisive factors of the pokemon abilities.\n",
    "\n",
    "But `HP`, `Attack`, `Defense`, `Sp. Atk`, `Sp. Def`, `Speed`, and `Total` are a lot of fields! If we look at them all at once it's very complicated. This isn't Mission Impossible but it's ideal that we tackle this kind of problem after we learn Machine Learning (which you will do in Module 3). For now, is there a way to consolidate the fields we need to look into?\n",
    "\n",
    "Fortunately there seems to be a way. It appears the `Total` field is computed based on the other 6 fields. But we need to prove our theory. If we can approve there is a formula to compute `Total` based on the other 6 abilities, we only need to look into `Total`.\n",
    "\n",
    "We have the following expectation now:\n",
    "\n",
    "#### The `Total` field is computed based on `HP`, `Attack`, `Defense`, `Sp. Atk`, `Sp. Def`, and `Speed`.\n",
    "\n",
    "We need to collect the following information:\n",
    "\n",
    "* **What is the formula to compute `Total`?**\n",
    "* **Does the formula work for all pokemon?**\n",
    "\n",
    "In the cell below, make a hypothesis on how `Total` is computed and test your hypothesis."
   ]
  },
  {
   "cell_type": "code",
   "execution_count": 11,
   "metadata": {},
   "outputs": [
    {
     "name": "stdout",
     "output_type": "stream",
     "text": [
      "Hypothesis Approved: True\n"
     ]
    }
   ],
   "source": [
    "import pandas as pd\n",
    "\n",
    "# Load the dataset\n",
    "pokemon_df = pd.read_csv('Pokemon.csv')\n",
    "\n",
    "# Hypothesis: Total is computed by summing up the values of HP, Attack, Defense, Sp. Atk, Sp. Def, and Speed\n",
    "# Test the Formula: Calculate Total based on the sum of HP, Attack, Defense, Sp. Atk, Sp. Def, and Speed\n",
    "pokemon_df['Calculated Total'] = pokemon_df['HP'] + pokemon_df['Attack'] + pokemon_df['Defense'] + pokemon_df['Sp. Atk'] + pokemon_df['Sp. Def'] + pokemon_df['Speed']\n",
    "\n",
    "# Validate the Hypothesis: Compare Calculated Total with the actual Total for all Pokémon\n",
    "hypothesis_approved = pokemon_df['Total'].equals(pokemon_df['Calculated Total'])\n",
    "\n",
    "# Display the result\n",
    "print(\"Hypothesis Approved:\", hypothesis_approved)"
   ]
  },
  {
   "cell_type": "markdown",
   "metadata": {},
   "source": [
    "## Problem Solving Iteration 2\n",
    "\n",
    "Now that we have consolidated the abilities fields, we can update the problem statement. The new problem statement is:\n",
    "\n",
    "### Which pokemon type is most likely to have the highest `Total` value?\n",
    "\n",
    "In the updated problem statement, we assume there is a certain relationship between the `Total` and the pokemon type. But we have two *type* fields (`Type 1` and `Type 2`) that have string values. In data analysis, string fields have to be transformed to numerical format in order to be analyzed. \n",
    "\n",
    "In addition, keep in mind that `Type 1` always has a value but `Type 2` is sometimes empty (having the `NaN` value). Also, the pokemon type we choose may be either in `Type 1` or `Type 2`.\n",
    "\n",
    "Now our expectation is:\n",
    "\n",
    "#### `Type 1` and `Type 2` string variables need to be converted to numerical variables in order to identify the relationship between `Total` and the pokemon type.\n",
    "\n",
    "The information we need to collect is:\n",
    "\n",
    "#### How to convert two string variables to numerical?\n",
    "\n",
    "Let's address the first question first. You can use a method called **One Hot Encoding** which is frequently used in machine learning to encode categorical string variables to numerical. The idea is to gather all the possible string values in a categorical field and create a numerical field for each unique string value. Each of those numerical fields uses `1` and `0` to indicate whether the data record has the corresponding categorical value. A detailed explanation of One Hot Encoding can be found in [this article](https://hackernoon.com/what-is-one-hot-encoding-why-and-when-do-you-have-to-use-it-e3c6186d008f). You will formally learn it in Module 3.\n",
    "\n",
    "For instance, if a pokemon has `Type 1` as `Poison` and `Type 2` as `Fire`, then its `Poison` and `Fire` fields are `1` whereas all other fields are `0`. If a pokemon has `Type 1` as `Water` and `Type 2` as `NaN`, then its `Water` field is `1` whereas all other fields are `0`.\n",
    "\n",
    "#### In the next cell, use One Hot Encoding to encode `Type 1` and `Type 2`. Use the pokemon type values as the names of the numerical fields you create.\n",
    "\n",
    "The new numerical variables you create should look like below:\n",
    "\n",
    "![One Hot Encoding](../images/one-hot-encoding.png)"
   ]
  },
  {
   "cell_type": "code",
   "execution_count": 12,
   "metadata": {},
   "outputs": [
    {
     "name": "stdout",
     "output_type": "stream",
     "text": [
      "One Hot Encoding:\n",
      "     Type_1_Bug  Type_1_Dark  Type_1_Dragon  Type_1_Electric  Type_1_Fairy  \\\n",
      "0         False        False          False            False         False   \n",
      "1         False        False          False            False         False   \n",
      "2         False        False          False            False         False   \n",
      "3         False        False          False            False         False   \n",
      "4         False        False          False            False         False   \n",
      "..          ...          ...            ...              ...           ...   \n",
      "795       False        False          False            False         False   \n",
      "796       False        False          False            False         False   \n",
      "797       False        False          False            False         False   \n",
      "798       False        False          False            False         False   \n",
      "799       False        False          False            False         False   \n",
      "\n",
      "     Type_1_Fighting  Type_1_Fire  Type_1_Flying  Type_1_Ghost  Type_1_Grass  \\\n",
      "0              False        False          False         False          True   \n",
      "1              False        False          False         False          True   \n",
      "2              False        False          False         False          True   \n",
      "3              False        False          False         False          True   \n",
      "4              False         True          False         False         False   \n",
      "..               ...          ...            ...           ...           ...   \n",
      "795            False        False          False         False         False   \n",
      "796            False        False          False         False         False   \n",
      "797            False        False          False         False         False   \n",
      "798            False        False          False         False         False   \n",
      "799            False         True          False         False         False   \n",
      "\n",
      "     ...  Type_2_Ghost  Type_2_Grass  Type_2_Ground  Type_2_Ice  \\\n",
      "0    ...         False         False          False       False   \n",
      "1    ...         False         False          False       False   \n",
      "2    ...         False         False          False       False   \n",
      "3    ...         False         False          False       False   \n",
      "4    ...         False         False          False       False   \n",
      "..   ...           ...           ...            ...         ...   \n",
      "795  ...         False         False          False       False   \n",
      "796  ...         False         False          False       False   \n",
      "797  ...          True         False          False       False   \n",
      "798  ...         False         False          False       False   \n",
      "799  ...         False         False          False       False   \n",
      "\n",
      "     Type_2_Normal  Type_2_Poison  Type_2_Psychic  Type_2_Rock  Type_2_Steel  \\\n",
      "0            False           True           False        False         False   \n",
      "1            False           True           False        False         False   \n",
      "2            False           True           False        False         False   \n",
      "3            False           True           False        False         False   \n",
      "4            False          False           False        False         False   \n",
      "..             ...            ...             ...          ...           ...   \n",
      "795          False          False           False        False         False   \n",
      "796          False          False           False        False         False   \n",
      "797          False          False           False        False         False   \n",
      "798          False          False           False        False         False   \n",
      "799          False          False           False        False         False   \n",
      "\n",
      "     Type_2_Water  \n",
      "0           False  \n",
      "1           False  \n",
      "2           False  \n",
      "3           False  \n",
      "4           False  \n",
      "..            ...  \n",
      "795         False  \n",
      "796         False  \n",
      "797         False  \n",
      "798         False  \n",
      "799          True  \n",
      "\n",
      "[800 rows x 36 columns]\n"
     ]
    }
   ],
   "source": [
    "# Apply One Hot Encoding to 'Type 1' and 'Type 2' columns\n",
    "encoded_types = pd.get_dummies(pokemon_df[['Type 1', 'Type 2']], prefix=['Type_1', 'Type_2'])\n",
    "\n",
    "# Display the new numerical variables\n",
    "print(\"One Hot Encoding:\")\n",
    "print(encoded_types)"
   ]
  },
  {
   "cell_type": "markdown",
   "metadata": {},
   "source": [
    "## Problem Solving Iteration 3\n",
    "\n",
    "Now we have encoded the pokemon types, we will identify the relationship between `Total` and the encoded fields. Our expectation is:\n",
    "\n",
    "#### There are relationships between `Total` and the encoded pokemon type variables and we need to identify the correlations.\n",
    "\n",
    "The information we need to collect is:\n",
    "\n",
    "#### How to identify the relationship between `Total` and the encoded pokemon type fields?\n",
    "\n",
    "There are multiple ways to answer this question. The easiest way is to use correlation. In the cell below, calculate the correlation of `Total` to each of the encoded fields. Rank the correlations and identify the #1 pokemon type that is most likely to have the highest `Total`."
   ]
  },
  {
   "cell_type": "code",
   "execution_count": 13,
   "metadata": {},
   "outputs": [
    {
     "name": "stdout",
     "output_type": "stream",
     "text": [
      "Correlation between Total and encoded pokemon type fields:\n",
      "Type_1_Dragon      0.196532\n",
      "Type_2_Fighting    0.138726\n",
      "Type_2_Dragon      0.115240\n",
      "Type_2_Ice         0.100870\n",
      "Type_1_Psychic     0.094364\n",
      "Type_1_Steel       0.082000\n",
      "Type_2_Psychic     0.076054\n",
      "Type_2_Fire        0.073234\n",
      "Type_2_Steel       0.070307\n",
      "Type_2_Dark        0.065844\n",
      "Type_2_Flying      0.054048\n",
      "Type_1_Fire        0.050527\n",
      "Type_1_Rock        0.037524\n",
      "Type_1_Flying      0.029504\n",
      "Type_1_Dark        0.017818\n",
      "Type_1_Electric    0.016715\n",
      "Type_2_Ground      0.016486\n",
      "Type_2_Electric    0.014669\n",
      "Type_1_Ghost       0.007594\n",
      "Type_1_Ground      0.004082\n",
      "Type_2_Rock       -0.000512\n",
      "Type_1_Ice        -0.002412\n",
      "Type_2_Ghost      -0.004885\n",
      "Type_2_Normal     -0.013956\n",
      "Type_1_Water      -0.015640\n",
      "Type_2_Water      -0.018800\n",
      "Type_2_Bug        -0.021375\n",
      "Type_2_Fairy      -0.024606\n",
      "Type_1_Fairy      -0.026948\n",
      "Type_1_Fighting   -0.029086\n",
      "Type_1_Grass      -0.036057\n",
      "Type_2_Grass      -0.039224\n",
      "Type_1_Poison     -0.057123\n",
      "Type_2_Poison     -0.067837\n",
      "Type_1_Normal     -0.104150\n",
      "Type_1_Bug        -0.143957\n",
      "Name: Total, dtype: float64\n"
     ]
    }
   ],
   "source": [
    "# Concatenate the encoded type fields with the Total column\n",
    "encoded_df = pd.concat([encoded_types, pokemon_df['Total']], axis=1)\n",
    "\n",
    "# Calculate the correlation between Total and each encoded field\n",
    "correlations = encoded_df.corr()['Total'].drop('Total').sort_values(ascending=False)\n",
    "\n",
    "# Display the correlations\n",
    "print(\"Correlation between Total and encoded pokemon type fields:\")\n",
    "print(correlations)"
   ]
  },
  {
   "cell_type": "markdown",
   "metadata": {},
   "source": [
    "# Bonus Question\n",
    "\n",
    "Say now you can choose both `Type 1` and `Type 2` of the pokemon. In order to receive the best pokemon, which types will you choose?"
   ]
  },
  {
   "cell_type": "code",
   "execution_count": null,
   "metadata": {},
   "outputs": [],
   "source": [
    "# your code here"
   ]
  }
 ],
 "metadata": {
  "kernelspec": {
   "display_name": "Python 3 (ipykernel)",
   "language": "python",
   "name": "python3"
  },
  "language_info": {
   "codemirror_mode": {
    "name": "ipython",
    "version": 3
   },
   "file_extension": ".py",
   "mimetype": "text/x-python",
   "name": "python",
   "nbconvert_exporter": "python",
   "pygments_lexer": "ipython3",
   "version": "3.11.7"
  }
 },
 "nbformat": 4,
 "nbformat_minor": 2
}
